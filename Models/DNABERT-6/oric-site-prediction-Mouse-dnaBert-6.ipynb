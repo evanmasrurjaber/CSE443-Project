{
 "cells": [
  {
   "cell_type": "code",
   "execution_count": 1,
   "metadata": {
    "execution": {
     "iopub.execute_input": "2025-09-11T06:55:47.193950Z",
     "iopub.status.busy": "2025-09-11T06:55:47.193693Z",
     "iopub.status.idle": "2025-09-11T06:55:51.415491Z",
     "shell.execute_reply": "2025-09-11T06:55:51.414111Z",
     "shell.execute_reply.started": "2025-09-11T06:55:47.193904Z"
    },
    "trusted": true
   },
   "outputs": [],
   "source": [
    "from sklearn.model_selection import train_test_split\n",
    "from sklearn.metrics import accuracy_score, roc_auc_score, confusion_matrix\n",
    "import xgboost as xgb\n",
    "from collections import Counter\n",
    "import numpy as np\n",
    "import itertools\n",
    "from pathlib import Path\n",
    "import pandas as pd\n",
    "from collections import Counter\n",
    "from itertools import product\n",
    "import numpy as np, pandas as pd, re\n",
    "from sklearn.metrics import f1_score, recall_score, precision_score\n",
    "import matplotlib.pyplot as plt\n",
    "import seaborn as sns\n",
    "from sklearn.model_selection import GridSearchCV, StratifiedKFold\n",
    "from sklearn.metrics import classification_report"
   ]
  },
  {
   "cell_type": "code",
   "execution_count": 2,
   "metadata": {
    "execution": {
     "iopub.execute_input": "2025-09-11T06:56:06.213429Z",
     "iopub.status.busy": "2025-09-11T06:56:06.213185Z",
     "iopub.status.idle": "2025-09-11T06:56:06.251550Z",
     "shell.execute_reply": "2025-09-11T06:56:06.250988Z",
     "shell.execute_reply.started": "2025-09-11T06:56:06.213413Z"
    },
    "trusted": true
   },
   "outputs": [
    {
     "data": {
      "text/html": [
       "<div>\n",
       "<style scoped>\n",
       "    .dataframe tbody tr th:only-of-type {\n",
       "        vertical-align: middle;\n",
       "    }\n",
       "\n",
       "    .dataframe tbody tr th {\n",
       "        vertical-align: top;\n",
       "    }\n",
       "\n",
       "    .dataframe thead th {\n",
       "        text-align: right;\n",
       "    }\n",
       "</style>\n",
       "<table border=\"1\" class=\"dataframe\">\n",
       "  <thead>\n",
       "    <tr style=\"text-align: right;\">\n",
       "      <th></th>\n",
       "      <th>seq</th>\n",
       "      <th>label</th>\n",
       "    </tr>\n",
       "  </thead>\n",
       "  <tbody>\n",
       "    <tr>\n",
       "      <th>0</th>\n",
       "      <td>CCCCTAACCCCTCCACCTCCCCATGCTCCCCAACCCACCCACTCCC...</td>\n",
       "      <td>Positive</td>\n",
       "    </tr>\n",
       "    <tr>\n",
       "      <th>1</th>\n",
       "      <td>GGGCAATCAGAAGTCATGTGAGAGCCAACTGAAAGGCTTGGCCATC...</td>\n",
       "      <td>Positive</td>\n",
       "    </tr>\n",
       "    <tr>\n",
       "      <th>2</th>\n",
       "      <td>GACCACATTCAACCCACTTACTACCTTTCTTTTCCTCCCCTCCCCC...</td>\n",
       "      <td>Positive</td>\n",
       "    </tr>\n",
       "    <tr>\n",
       "      <th>3</th>\n",
       "      <td>GAGGGGGGGAGAGGGAGGGACGGAGGGACGGAGGGAGGGAGGGAGG...</td>\n",
       "      <td>Positive</td>\n",
       "    </tr>\n",
       "    <tr>\n",
       "      <th>4</th>\n",
       "      <td>CAGTGTGTGCGTATCAGACACGCCTACGCACATGATGTGATGGGCA...</td>\n",
       "      <td>Positive</td>\n",
       "    </tr>\n",
       "  </tbody>\n",
       "</table>\n",
       "</div>"
      ],
      "text/plain": [
       "                                                 seq     label\n",
       "0  CCCCTAACCCCTCCACCTCCCCATGCTCCCCAACCCACCCACTCCC...  Positive\n",
       "1  GGGCAATCAGAAGTCATGTGAGAGCCAACTGAAAGGCTTGGCCATC...  Positive\n",
       "2  GACCACATTCAACCCACTTACTACCTTTCTTTTCCTCCCCTCCCCC...  Positive\n",
       "3  GAGGGGGGGAGAGGGAGGGACGGAGGGACGGAGGGAGGGAGGGAGG...  Positive\n",
       "4  CAGTGTGTGCGTATCAGACACGCCTACGCACATGATGTGATGGGCA...  Positive"
      ]
     },
     "execution_count": 2,
     "metadata": {},
     "output_type": "execute_result"
    }
   ],
   "source": [
    "def load_fasta_to_dataframe(paths: list[Path]) -> pd.DataFrame:\n",
    "    all_dfs = []\n",
    "    for path in paths:\n",
    "        seqs, labs = [], []\n",
    "        lines = path.read_text().splitlines()\n",
    "        for i in range(0, len(lines), 2):\n",
    "            header = lines[i].strip()\n",
    "            if not header:\n",
    "                continue\n",
    "            seq  = lines[i+1].strip() if i+1 < len(lines) else \"\"\n",
    "            labs.append(\"Positive\" if \"positive\" in header.lower() or header == \">1\" else \"Negative\")\n",
    "            seqs.append(seq.upper())\n",
    "        all_dfs.append(pd.DataFrame({\"seq\": seqs, \"label\": labs}))\n",
    "\n",
    "    return pd.concat(all_dfs, ignore_index=True)\n",
    "\n",
    "data_dir = Path(\"/kaggle/input/oric-training\")\n",
    "files = [\"bmark-ES_Mouse.txt\", \"bmark-MEF_Mouse.txt\", \"bmark-P19_Mouse.txt\"]\n",
    "merged_df = load_fasta_to_dataframe([data_dir / f for f in files])\n",
    "merged_df.head()"
   ]
  },
  {
   "cell_type": "code",
   "execution_count": 3,
   "metadata": {
    "execution": {
     "iopub.execute_input": "2025-09-11T06:56:08.464168Z",
     "iopub.status.busy": "2025-09-11T06:56:08.463451Z",
     "iopub.status.idle": "2025-09-11T06:56:08.574257Z",
     "shell.execute_reply": "2025-09-11T06:56:08.573664Z",
     "shell.execute_reply.started": "2025-09-11T06:56:08.464143Z"
    },
    "trusted": true
   },
   "outputs": [
    {
     "data": {
      "image/png": "[encoded data removed]",
      "text/plain": [
       "<Figure size 600x400 with 1 Axes>"
      ]
     },
     "metadata": {},
     "output_type": "display_data"
    }
   ],
   "source": [
    "plt.figure(figsize=(6, 4))\n",
    "sns.countplot(x='label', data=merged_df)\n",
    "plt.title('Class Distribution of oriC Data')\n",
    "plt.xlabel('Label')\n",
    "plt.ylabel('Count')\n",
    "plt.show()"
   ]
  },
  {
   "cell_type": "code",
   "execution_count": 4,
   "metadata": {
    "execution": {
     "iopub.execute_input": "2025-09-11T06:56:18.604146Z",
     "iopub.status.busy": "2025-09-11T06:56:18.603439Z",
     "iopub.status.idle": "2025-09-11T06:56:26.885613Z",
     "shell.execute_reply": "2025-09-11T06:56:26.884808Z",
     "shell.execute_reply.started": "2025-09-11T06:56:18.604123Z"
    },
    "trusted": true
   },
   "outputs": [
    {
     "data": {
      "application/vnd.jupyter.widget-view+json": {
       "model_id": "0028566b6981452bab6bf0d67e639835",
       "version_major": 2,
       "version_minor": 0
      },
      "text/plain": [
       "tokenizer_config.json:   0%|          | 0.00/40.0 [00:00<?, ?B/s]"
      ]
     },
     "metadata": {},
     "output_type": "display_data"
    },
    {
     "data": {
      "application/vnd.jupyter.widget-view+json": {
       "model_id": "45465721098840cfb69688dbfdc2c685",
       "version_major": 2,
       "version_minor": 0
      },
      "text/plain": [
       "config.json: 0.00B [00:00, ?B/s]"
      ]
     },
     "metadata": {},
     "output_type": "display_data"
    },
    {
     "data": {
      "application/vnd.jupyter.widget-view+json": {
       "model_id": "23dbc2bbdbb3411986e9d753d7f959c5",
       "version_major": 2,
       "version_minor": 0
      },
      "text/plain": [
       "configuration_bert.py:   0%|          | 0.00/807 [00:00<?, ?B/s]"
      ]
     },
     "metadata": {},
     "output_type": "display_data"
    },
    {
     "name": "stderr",
     "output_type": "stream",
     "text": [
      "A new version of the following files was downloaded from https://huggingface.co/zhihan1996/DNA_bert_6:\n",
      "- configuration_bert.py\n",
      ". Make sure to double-check they do not contain any added malicious code. To avoid downloading new versions of the code file, you can pin a revision.\n"
     ]
    },
    {
     "data": {
      "application/vnd.jupyter.widget-view+json": {
       "model_id": "213d79de26b142d4ad382f932061cdd8",
       "version_major": 2,
       "version_minor": 0
      },
      "text/plain": [
       "vocab.txt: 0.00B [00:00, ?B/s]"
      ]
     },
     "metadata": {},
     "output_type": "display_data"
    },
    {
     "data": {
      "application/vnd.jupyter.widget-view+json": {
       "model_id": "4ce158eadf2845aba31f03f958402814",
       "version_major": 2,
       "version_minor": 0
      },
      "text/plain": [
       "special_tokens_map.json:   0%|          | 0.00/112 [00:00<?, ?B/s]"
      ]
     },
     "metadata": {},
     "output_type": "display_data"
    }
   ],
   "source": [
    "from transformers import AutoTokenizer\n",
    "\n",
    "tokenizer = AutoTokenizer.from_pretrained(\"zhihan1996/DNA_bert_6\", trust_remote_code=True)\n",
    "\n",
    "def kmers_split(sequence, k=6):\n",
    "    return \" \".join([sequence[i:i+k] for i in range(len(sequence)-k+1)])\n",
    "\n",
    "merged_df['kmers'] = merged_df['seq'].apply(lambda x: kmers_split(x))"
   ]
  },
  {
   "cell_type": "code",
   "execution_count": 5,
   "metadata": {
    "execution": {
     "iopub.execute_input": "2025-09-11T06:56:26.887177Z",
     "iopub.status.busy": "2025-09-11T06:56:26.886733Z",
     "iopub.status.idle": "2025-09-11T06:56:26.906446Z",
     "shell.execute_reply": "2025-09-11T06:56:26.905724Z",
     "shell.execute_reply.started": "2025-09-11T06:56:26.887157Z"
    },
    "trusted": true
   },
   "outputs": [],
   "source": [
    "import torch\n",
    "from torch.utils.data import Dataset, DataLoader\n",
    "\n",
    "class DNADataset(Dataset):\n",
    "    def __init__(self, texts, labels, tokenizer, max_len=512):\n",
    "        self.texts = texts\n",
    "        self.labels = labels\n",
    "        self.tokenizer = tokenizer\n",
    "        self.max_len = max_len\n",
    "\n",
    "    def __getitem__(self, idx):\n",
    "        text = str(self.texts[idx])\n",
    "        inputs = self.tokenizer.encode_plus(\n",
    "            text,\n",
    "            None,\n",
    "            add_special_tokens=True,\n",
    "            max_length=self.max_len,\n",
    "            padding='max_length',\n",
    "            truncation=True,\n",
    "            return_tensors='pt'\n",
    "        )\n",
    "        return {\n",
    "            'input_ids': inputs['input_ids'].flatten(),\n",
    "            'attention_mask': inputs['attention_mask'].flatten(),\n",
    "            'labels': torch.tensor(self.labels[idx], dtype=torch.long)\n",
    "        }\n",
    "\n",
    "    def __len__(self):\n",
    "        return len(self.texts)\n",
    "\n",
    "# Convert labels to numerical values\n",
    "label_map = {'Positive': 1, 'Negative': 0}\n",
    "merged_df['num_label'] = merged_df['label'].map(label_map)\n",
    "\n",
    "# Split dataset into train (60%), validation (20%), and test (20%)\n",
    "# First split: 80% for training+validation, 20% for testing\n",
    "train_val_texts, test_texts, train_val_labels, test_labels = train_test_split(\n",
    "    merged_df['kmers'], merged_df['num_label'], \n",
    "    test_size=0.2, random_state=42, stratify=merged_df['num_label']\n",
    ")\n",
    "\n",
    "# Second split: Split the 80% into 75% training and 25% validation (which gives 60% train, 20% val)\n",
    "train_texts, val_texts, train_labels, val_labels = train_test_split(\n",
    "    train_val_texts, train_val_labels, \n",
    "    test_size=0.25, random_state=42, stratify=train_val_labels\n",
    ")\n",
    "\n",
    "# Create DataLoaders for all three sets\n",
    "train_dataset = DNADataset(train_texts.tolist(), train_labels.tolist(), tokenizer)\n",
    "val_dataset = DNADataset(val_texts.tolist(), val_labels.tolist(), tokenizer)\n",
    "test_dataset = DNADataset(test_texts.tolist(), test_labels.tolist(), tokenizer)\n",
    "\n",
    "train_loader = DataLoader(train_dataset, batch_size=16, shuffle=True)\n",
    "val_loader = DataLoader(val_dataset, batch_size=16)\n",
    "test_loader = DataLoader(test_dataset, batch_size=16)"
   ]
  },
  {
   "cell_type": "code",
   "execution_count": 6,
   "metadata": {
    "execution": {
     "iopub.execute_input": "2025-09-11T06:56:26.907462Z",
     "iopub.status.busy": "2025-09-11T06:56:26.907180Z",
     "iopub.status.idle": "2025-09-11T06:56:26.980626Z",
     "shell.execute_reply": "2025-09-11T06:56:26.979962Z",
     "shell.execute_reply.started": "2025-09-11T06:56:26.907438Z"
    },
    "trusted": true
   },
   "outputs": [
    {
     "name": "stdout",
     "output_type": "stream",
     "text": [
      "train val split : 5168 1723 1723\n"
     ]
    }
   ],
   "source": [
    "print(\"train val split :\", len(train_texts), len(val_texts), len(test_texts))"
   ]
  },
  {
   "cell_type": "code",
   "execution_count": 7,
   "metadata": {
    "execution": {
     "iopub.execute_input": "2025-09-11T06:56:26.983203Z",
     "iopub.status.busy": "2025-09-11T06:56:26.982243Z",
     "iopub.status.idle": "2025-09-11T06:56:48.144443Z",
     "shell.execute_reply": "2025-09-11T06:56:48.143672Z",
     "shell.execute_reply.started": "2025-09-11T06:56:26.983151Z"
    },
    "trusted": true
   },
   "outputs": [
    {
     "data": {
      "application/vnd.jupyter.widget-view+json": {
       "model_id": "56d6db5eb1ce411ca217a89329f8fd28",
       "version_major": 2,
       "version_minor": 0
      },
      "text/plain": [
       "dnabert_layer.py: 0.00B [00:00, ?B/s]"
      ]
     },
     "metadata": {},
     "output_type": "display_data"
    },
    {
     "name": "stderr",
     "output_type": "stream",
     "text": [
      "A new version of the following files was downloaded from https://huggingface.co/zhihan1996/DNA_bert_6:\n",
      "- dnabert_layer.py\n",
      ". Make sure to double-check they do not contain any added malicious code. To avoid downloading new versions of the code file, you can pin a revision.\n",
      "2025-09-14 18:56:11.271745: E external/local_xla/xla/stream_executor/cuda/cuda_fft.cc:477] Unable to register cuFFT factory: Attempting to register factory for plugin cuFFT when one has already been registered\n",
      "WARNING: All log messages before absl::InitializeLog() is called are written to STDERR\n",
      "E0000 00:00:1757876171.293711    8770 cuda_dnn.cc:8310] Unable to register cuDNN factory: Attempting to register factory for plugin cuDNN when one has already been registered\n",
      "E0000 00:00:1757876171.300437    8770 cuda_blas.cc:1418] Unable to register cuBLAS factory: Attempting to register factory for plugin cuBLAS when one has already been registered\n"
     ]
    },
    {
     "data": {
      "application/vnd.jupyter.widget-view+json": {
       "model_id": "68c3a594596a42f4baa479597d4eb3db",
       "version_major": 2,
       "version_minor": 0
      },
      "text/plain": [
       "pytorch_model.bin:   0%|          | 0.00/359M [00:00<?, ?B/s]"
      ]
     },
     "metadata": {},
     "output_type": "display_data"
    },
    {
     "name": "stderr",
     "output_type": "stream",
     "text": [
      "Some weights of DNABertForSequenceClassification were not initialized from the model checkpoint at zhihan1996/DNA_bert_6 and are newly initialized: ['classifier.bias', 'classifier.weight']\n",
      "You should probably TRAIN this model on a down-stream task to be able to use it for predictions and inference.\n"
     ]
    },
    {
     "name": "stdout",
     "output_type": "stream",
     "text": [
      "Using 2 GPUs\n"
     ]
    },
    {
     "data": {
      "text/plain": [
       "DataParallel(\n",
       "  (module): DNABertForSequenceClassification(\n",
       "    (bert): BertModel(\n",
       "      (embeddings): BertEmbeddings(\n",
       "        (word_embeddings): Embedding(4101, 768, padding_idx=0)\n",
       "        (position_embeddings): Embedding(512, 768)\n",
       "        (token_type_embeddings): Embedding(2, 768)\n",
       "        (LayerNorm): LayerNorm((768,), eps=1e-12, elementwise_affine=True)\n",
       "        (dropout): Dropout(p=0.1, inplace=False)\n",
       "      )\n",
       "      (encoder): BertEncoder(\n",
       "        (layer): ModuleList(\n",
       "          (0-11): 12 x BertLayer(\n",
       "            (attention): BertAttention(\n",
       "              (self): BertSdpaSelfAttention(\n",
       "                (query): Linear(in_features=768, out_features=768, bias=True)\n",
       "                (key): Linear(in_features=768, out_features=768, bias=True)\n",
       "                (value): Linear(in_features=768, out_features=768, bias=True)\n",
       "                (dropout): Dropout(p=0.1, inplace=False)\n",
       "              )\n",
       "              (output): BertSelfOutput(\n",
       "                (dense): Linear(in_features=768, out_features=768, bias=True)\n",
       "                (LayerNorm): LayerNorm((768,), eps=1e-12, elementwise_affine=True)\n",
       "                (dropout): Dropout(p=0.1, inplace=False)\n",
       "              )\n",
       "            )\n",
       "            (intermediate): BertIntermediate(\n",
       "              (dense): Linear(in_features=768, out_features=3072, bias=True)\n",
       "              (intermediate_act_fn): GELUActivation()\n",
       "            )\n",
       "            (output): BertOutput(\n",
       "              (dense): Linear(in_features=3072, out_features=768, bias=True)\n",
       "              (LayerNorm): LayerNorm((768,), eps=1e-12, elementwise_affine=True)\n",
       "              (dropout): Dropout(p=0.1, inplace=False)\n",
       "            )\n",
       "          )\n",
       "        )\n",
       "      )\n",
       "      (pooler): BertPooler(\n",
       "        (dense): Linear(in_features=768, out_features=768, bias=True)\n",
       "        (activation): Tanh()\n",
       "      )\n",
       "    )\n",
       "    (dropout): Dropout(p=0.1, inplace=False)\n",
       "    (classifier): Linear(in_features=768, out_features=2, bias=True)\n",
       "  )\n",
       ")"
      ]
     },
     "execution_count": 7,
     "metadata": {},
     "output_type": "execute_result"
    }
   ],
   "source": [
    "from transformers import AutoModelForSequenceClassification\n",
    "import torch.nn as nn\n",
    "\n",
    "device = torch.device(\"cuda\" if torch.cuda.is_available() else \"cpu\")\n",
    "model = AutoModelForSequenceClassification.from_pretrained(\n",
    "    \"zhihan1996/DNA_bert_6\", \n",
    "    trust_remote_code=True,\n",
    "    num_labels=2,\n",
    "    output_attentions=False,\n",
    "    output_hidden_states=False\n",
    ")\n",
    "\n",
    "if torch.cuda.device_count() > 1:\n",
    "    print(f\"Using {torch.cuda.device_count()} GPUs\")\n",
    "    model = nn.DataParallel(model)\n",
    "\n",
    "model.to(device)"
   ]
  },
  {
   "cell_type": "code",
   "execution_count": 8,
   "metadata": {
    "execution": {
     "iopub.execute_input": "2025-09-11T06:56:48.146515Z",
     "iopub.status.busy": "2025-09-11T06:56:48.145880Z",
     "iopub.status.idle": "2025-09-11T06:56:48.183631Z",
     "shell.execute_reply": "2025-09-11T06:56:48.182957Z",
     "shell.execute_reply.started": "2025-09-11T06:56:48.146490Z"
    },
    "trusted": true
   },
   "outputs": [
    {
     "data": {
      "application/vnd.jupyter.widget-view+json": {
       "model_id": "84b8a32e5a664d28b27af35890f4ea70",
       "version_major": 2,
       "version_minor": 0
      },
      "text/plain": [
       "model.safetensors:   0%|          | 0.00/359M [00:00<?, ?B/s]"
      ]
     },
     "metadata": {},
     "output_type": "display_data"
    }
   ],
   "source": [
    "from transformers import get_linear_schedule_with_warmup\n",
    "import torch.optim as optim \n",
    "\n",
    "epochs = 7\n",
    "optimizer = optim.AdamW(model.parameters(), lr=2e-5)\n",
    "total_steps = len(train_loader) * epochs\n",
    "scheduler = get_linear_schedule_with_warmup(\n",
    "    optimizer,\n",
    "    num_warmup_steps=0,\n",
    "    num_training_steps=total_steps\n",
    ")"
   ]
  },
  {
   "cell_type": "code",
   "execution_count": 9,
   "metadata": {
    "execution": {
     "iopub.execute_input": "2025-09-11T06:56:48.184639Z",
     "iopub.status.busy": "2025-09-11T06:56:48.184392Z",
     "iopub.status.idle": "2025-09-11T07:06:35.058843Z",
     "shell.execute_reply": "2025-09-11T07:06:35.058196Z",
     "shell.execute_reply.started": "2025-09-11T06:56:48.184618Z"
    },
    "trusted": true
   },
   "outputs": [
    {
     "name": "stderr",
     "output_type": "stream",
     "text": [
      "                                                                         \r"
     ]
    },
    {
     "name": "stdout",
     "output_type": "stream",
     "text": [
      "Epoch 1/7 | Train Loss: 0.4656 | Val Loss: 0.3229 | Val Accuracy: 0.8683\n"
     ]
    },
    {
     "name": "stderr",
     "output_type": "stream",
     "text": [
      "                                                                                    \r"
     ]
    },
    {
     "name": "stdout",
     "output_type": "stream",
     "text": [
      "Epoch 2/7 | Train Loss: 0.3069 | Val Loss: 0.2775 | Val Accuracy: 0.8793\n"
     ]
    },
    {
     "name": "stderr",
     "output_type": "stream",
     "text": [
      "                                                                                    \r"
     ]
    },
    {
     "name": "stdout",
     "output_type": "stream",
     "text": [
      "Epoch 3/7 | Train Loss: 0.2600 | Val Loss: 0.2767 | Val Accuracy: 0.8944\n"
     ]
    },
    {
     "name": "stderr",
     "output_type": "stream",
     "text": [
      "                                                                                    \r"
     ]
    },
    {
     "name": "stdout",
     "output_type": "stream",
     "text": [
      "Epoch 4/7 | Train Loss: 0.2303 | Val Loss: 0.2850 | Val Accuracy: 0.8932\n",
      "EarlyStopping counter: 1 out of 3\n"
     ]
    },
    {
     "name": "stderr",
     "output_type": "stream",
     "text": [
      "                                                                                    \r"
     ]
    },
    {
     "name": "stdout",
     "output_type": "stream",
     "text": [
      "Epoch 5/7 | Train Loss: 0.1965 | Val Loss: 0.3056 | Val Accuracy: 0.8932\n",
      "EarlyStopping counter: 2 out of 3\n"
     ]
    },
    {
     "name": "stderr",
     "output_type": "stream",
     "text": [
      "                                                                                    "
     ]
    },
    {
     "name": "stdout",
     "output_type": "stream",
     "text": [
      "Epoch 6/7 | Train Loss: 0.1722 | Val Loss: 0.3303 | Val Accuracy: 0.8932\n",
      "EarlyStopping counter: 3 out of 3\n",
      "Early stopping triggered after epoch 6\n",
      "Loaded best model with validation loss: 0.2767\n"
     ]
    },
    {
     "name": "stderr",
     "output_type": "stream",
     "text": [
      "\r"
     ]
    },
    {
     "data": {
      "image/png": "[encoded data removed]",
      "text/plain": [
       "<Figure size 500x400 with 1 Axes>"
      ]
     },
     "metadata": {},
     "output_type": "display_data"
    },
    {
     "name": "stdout",
     "output_type": "stream",
     "text": [
      "\n",
      "Evaluating on test set...\n"
     ]
    },
    {
     "name": "stderr",
     "output_type": "stream",
     "text": [
      "                                                                  "
     ]
    },
    {
     "name": "stdout",
     "output_type": "stream",
     "text": [
      "\n",
      "Test Results (Best Model):\n",
      "Test Loss: 0.2701\n",
      "Test Accuracy: 0.8880\n",
      "\n",
      "Classification Report:\n",
      "              precision    recall  f1-score   support\n",
      "\n",
      "    Negative       0.91      0.86      0.88       862\n",
      "    Positive       0.87      0.92      0.89       861\n",
      "\n",
      "    accuracy                           0.89      1723\n",
      "   macro avg       0.89      0.89      0.89      1723\n",
      "weighted avg       0.89      0.89      0.89      1723\n",
      "\n",
      "\n",
      "Confusion Matrix:\n",
      "[[742 120]\n",
      " [ 73 788]]\n"
     ]
    },
    {
     "name": "stderr",
     "output_type": "stream",
     "text": [
      "\r"
     ]
    }
   ],
   "source": [
    "import warnings\n",
    "# Suppress specific DataParallel warning\n",
    "warnings.filterwarnings(\"ignore\", message=\"Was asked to gather along dimension 0, but all input tensors were scalars\")\n",
    "\n",
    "import copy\n",
    "import torch\n",
    "import matplotlib.pyplot as plt\n",
    "import numpy as np\n",
    "from sklearn.metrics import accuracy_score, classification_report, confusion_matrix\n",
    "from tqdm import tqdm, trange\n",
    "\n",
    "# Initialize lists to track metrics\n",
    "train_losses = []\n",
    "val_losses = []\n",
    "val_accuracies = []\n",
    "\n",
    "# Early stopping parameters\n",
    "patience = 3  # Number of epochs to wait for improvement\n",
    "best_val_loss = float('inf')\n",
    "best_model_state = None\n",
    "counter = 0\n",
    "early_stopped = False\n",
    "\n",
    "# Training loop with progress bars and early stopping\n",
    "for epoch in range(epochs):\n",
    "    # Training phase\n",
    "    model.train()\n",
    "    total_loss = 0\n",
    "    \n",
    "    # Create progress bar for training\n",
    "    training_progress = tqdm(train_loader, desc=f'Epoch {epoch+1}/{epochs} [Training]', leave=False)\n",
    "    \n",
    "    for batch in training_progress:\n",
    "        input_ids = batch['input_ids'].to(device)\n",
    "        attention_mask = batch['attention_mask'].to(device)\n",
    "        labels = batch['labels'].to(device)\n",
    "        \n",
    "        outputs = model(input_ids, attention_mask=attention_mask, labels=labels)\n",
    "        loss = outputs.loss\n",
    "        \n",
    "        if torch.cuda.device_count() > 1:\n",
    "            loss = loss.mean()\n",
    "            \n",
    "        loss.backward()\n",
    "        torch.nn.utils.clip_grad_norm_(model.parameters(), 1.0)\n",
    "        optimizer.step()\n",
    "        scheduler.step()\n",
    "        optimizer.zero_grad()\n",
    "        \n",
    "        total_loss += loss.item()\n",
    "        training_progress.set_postfix({'loss': f'{loss.item():.4f}'})\n",
    "    \n",
    "    avg_train_loss = total_loss / len(train_loader)\n",
    "    train_losses.append(avg_train_loss)\n",
    "    \n",
    "    # Validation phase\n",
    "    model.eval()\n",
    "    val_preds, val_labels_list = [], []\n",
    "    total_val_loss = 0\n",
    "    \n",
    "    validation_progress = tqdm(val_loader, desc=f'Epoch {epoch+1}/{epochs} [Validation]', leave=False)\n",
    "    \n",
    "    with torch.no_grad():\n",
    "        for batch in validation_progress:\n",
    "            input_ids = batch['input_ids'].to(device)\n",
    "            attention_mask = batch['attention_mask'].to(device)\n",
    "            labels = batch['labels'].to(device)\n",
    "            \n",
    "            outputs = model(input_ids, attention_mask=attention_mask, labels=labels)\n",
    "            loss = outputs.loss\n",
    "            \n",
    "            if torch.cuda.device_count() > 1:\n",
    "                loss = loss.mean()\n",
    "                \n",
    "            total_val_loss += loss.item()\n",
    "            \n",
    "            logits = outputs.logits\n",
    "            preds = torch.argmax(logits, dim=1)\n",
    "            \n",
    "            val_preds.extend(preds.cpu().numpy())\n",
    "            val_labels_list.extend(labels.cpu().numpy())\n",
    "    \n",
    "    avg_val_loss = total_val_loss / len(val_loader)\n",
    "    val_losses.append(avg_val_loss)\n",
    "    \n",
    "    accuracy = accuracy_score(val_labels_list, val_preds)\n",
    "    val_accuracies.append(accuracy)\n",
    "    \n",
    "    print(f\"Epoch {epoch+1}/{epochs} | Train Loss: {avg_train_loss:.4f} | Val Loss: {avg_val_loss:.4f} | Val Accuracy: {accuracy:.4f}\")\n",
    "    \n",
    "    # Early stopping check\n",
    "    if avg_val_loss < best_val_loss:\n",
    "        best_val_loss = avg_val_loss\n",
    "        # Save the best model state\n",
    "        if torch.cuda.device_count() > 1:\n",
    "            best_model_state = copy.deepcopy(model.module.state_dict())\n",
    "        else:\n",
    "            best_model_state = copy.deepcopy(model.state_dict())\n",
    "        counter = 0\n",
    "    else:\n",
    "        counter += 1\n",
    "        print(f\"EarlyStopping counter: {counter} out of {patience}\")\n",
    "        \n",
    "    if counter >= patience:\n",
    "        print(f\"Early stopping triggered after epoch {epoch+1}\")\n",
    "        early_stopped = True\n",
    "        break\n",
    "\n",
    "# Load the best model for evaluation\n",
    "if best_model_state is not None:\n",
    "    if torch.cuda.device_count() > 1:\n",
    "        model.module.load_state_dict(best_model_state)\n",
    "    else:\n",
    "        model.load_state_dict(best_model_state)\n",
    "    print(f\"Loaded best model with validation loss: {best_val_loss:.4f}\")\n",
    "\n",
    "# Plot training/validation curves\n",
    "plt.figure(figsize=(5, 4))\n",
    "\n",
    "# Loss curve\n",
    "plt.plot(train_losses, label='Training Loss')\n",
    "plt.plot(val_losses, label='Validation Loss')\n",
    "plt.title('Training and Validation Loss')\n",
    "plt.xlabel('Epochs')\n",
    "plt.ylabel('Loss')\n",
    "if early_stopped:\n",
    "    plt.axvline(x=len(val_losses)-patience-1, color='r', linestyle='--', label='Early Stopping Point')\n",
    "plt.legend()\n",
    "plt.tight_layout()\n",
    "plt.show()\n",
    "\n",
    "# Final evaluation on test set using the best model\n",
    "print(\"\\nEvaluating on test set...\")\n",
    "model.eval()\n",
    "test_preds, test_labels_list = [], []\n",
    "total_test_loss = 0\n",
    "\n",
    "test_progress = tqdm(test_loader, desc='Test Evaluation', leave=False)\n",
    "\n",
    "with torch.no_grad():\n",
    "    for batch in test_progress:\n",
    "        input_ids = batch['input_ids'].to(device)\n",
    "        attention_mask = batch['attention_mask'].to(device)\n",
    "        labels = batch['labels'].to(device)\n",
    "        \n",
    "        outputs = model(input_ids, attention_mask=attention_mask, labels=labels)\n",
    "        loss = outputs.loss\n",
    "        \n",
    "        if torch.cuda.device_count() > 1:\n",
    "            loss = loss.mean()\n",
    "            \n",
    "        total_test_loss += loss.item()\n",
    "        \n",
    "        logits = outputs.logits\n",
    "        preds = torch.argmax(logits, dim=1)\n",
    "        \n",
    "        test_preds.extend(preds.cpu().numpy())\n",
    "        test_labels_list.extend(labels.cpu().numpy())\n",
    "\n",
    "# Calculate metrics\n",
    "avg_test_loss = total_test_loss / len(test_loader)\n",
    "test_accuracy = accuracy_score(test_labels_list, test_preds)\n",
    "\n",
    "print(f\"\\nTest Results (Best Model):\")\n",
    "print(f\"Test Loss: {avg_test_loss:.4f}\")\n",
    "print(f\"Test Accuracy: {test_accuracy:.4f}\")\n",
    "\n",
    "print(\"\\nClassification Report:\")\n",
    "print(classification_report(test_labels_list, test_preds, target_names=['Negative', 'Positive']))\n",
    "\n",
    "print(\"\\nConfusion Matrix:\")\n",
    "print(confusion_matrix(test_labels_list, test_preds))"
   ]
  },
  {
   "cell_type": "code",
   "execution_count": 10,
   "metadata": {},
   "outputs": [
    {
     "name": "stdout",
     "output_type": "stream",
     "text": [
      "\n",
      "Processing Human datasets...\n",
      "Loaded 4000 sequences for Human\n",
      "Class distribution: {'Positive': 2000, 'Negative': 2000}\n"
     ]
    },
    {
     "name": "stderr",
     "output_type": "stream",
     "text": [
      "Evaluating Human: 100%|██████████| 250/250 [01:12<00:00,  3.46it/s]\n"
     ]
    },
    {
     "name": "stdout",
     "output_type": "stream",
     "text": [
      "\n",
      "Human Results:\n",
      "Accuracy: 0.5667\n",
      "\n",
      "Classification Report:\n",
      "              precision    recall  f1-score   support\n",
      "\n",
      "    Negative       0.55      0.74      0.63      2000\n",
      "    Positive       0.60      0.39      0.47      2000\n",
      "\n",
      "    accuracy                           0.57      4000\n",
      "   macro avg       0.58      0.57      0.55      4000\n",
      "weighted avg       0.58      0.57      0.55      4000\n",
      "\n",
      "\n",
      "Confusion Matrix:\n",
      "[[1489  511]\n",
      " [1222  778]]\n",
      "\n",
      "Processing Mouse datasets...\n",
      "Loaded 6000 sequences for Mouse\n",
      "Class distribution: {'Positive': 3000, 'Negative': 3000}\n"
     ]
    },
    {
     "name": "stderr",
     "output_type": "stream",
     "text": [
      "Evaluating Mouse: 100%|██████████| 375/375 [01:48<00:00,  3.45it/s]\n"
     ]
    },
    {
     "name": "stdout",
     "output_type": "stream",
     "text": [
      "\n",
      "Mouse Results:\n",
      "Accuracy: 0.8872\n",
      "\n",
      "Classification Report:\n",
      "              precision    recall  f1-score   support\n",
      "\n",
      "    Negative       0.90      0.87      0.89      3000\n",
      "    Positive       0.88      0.90      0.89      3000\n",
      "\n",
      "    accuracy                           0.89      6000\n",
      "   macro avg       0.89      0.89      0.89      6000\n",
      "weighted avg       0.89      0.89      0.89      6000\n",
      "\n",
      "\n",
      "Confusion Matrix:\n",
      "[[2617  383]\n",
      " [ 294 2706]]\n",
      "\n",
      "Processing FF datasets...\n",
      "Loaded 16000 sequences for FF\n",
      "Class distribution: {'Positive': 8000, 'Negative': 8000}\n"
     ]
    },
    {
     "name": "stderr",
     "output_type": "stream",
     "text": [
      "Evaluating FF: 100%|██████████| 1000/1000 [04:50<00:00,  3.44it/s]\n"
     ]
    },
    {
     "name": "stdout",
     "output_type": "stream",
     "text": [
      "\n",
      "FF Results:\n",
      "Accuracy: 0.4853\n",
      "\n",
      "Classification Report:\n",
      "              precision    recall  f1-score   support\n",
      "\n",
      "    Negative       0.49      0.96      0.65      8000\n",
      "    Positive       0.14      0.01      0.01      8000\n",
      "\n",
      "    accuracy                           0.49     16000\n",
      "   macro avg       0.32      0.49      0.33     16000\n",
      "weighted avg       0.32      0.49      0.33     16000\n",
      "\n",
      "\n",
      "Confusion Matrix:\n",
      "[[7719  281]\n",
      " [7955   45]]\n"
     ]
    },
    {
     "data": {
      "image/png": "[encoded data removed]",
      "text/plain": [
       "<Figure size 1200x600 with 1 Axes>"
      ]
     },
     "metadata": {},
     "output_type": "display_data"
    }
   ],
   "source": [
    "# Group files by species\n",
    "independent_dir = Path(\"/kaggle/input/oric-independent\")\n",
    "species_files = {\n",
    "    \"Human\": [independent_dir / \"Ind-K562_Human.txt\", independent_dir / \"Ind-MCF7_Human.txt\"],\n",
    "    \"Mouse\": [independent_dir / \"Ind-ES_Mouse.txt\", independent_dir / \"Ind-MEF_Mouse.txt\", independent_dir / \"Ind-P19_Mouse.txt\"],\n",
    "    \"FF\": [independent_dir / \"Ind-Bg3_FF.txt\", independent_dir / \"Ind-KC_FF.txt\", independent_dir / \"Ind-S2_FF.txt\"]\n",
    "}\n",
    "\n",
    "# Dictionary to store results for visualization\n",
    "results = {}\n",
    "\n",
    "# Process each species and test the model\n",
    "for species, file_paths in species_files.items():\n",
    "    print(f\"\\nProcessing {species} datasets...\")\n",
    "    \n",
    "    # Load the data using the existing function\n",
    "    species_df = load_fasta_to_dataframe(file_paths)\n",
    "    print(f\"Loaded {len(species_df)} sequences for {species}\")\n",
    "    print(f\"Class distribution: {species_df['label'].value_counts().to_dict()}\")\n",
    "    \n",
    "    # Convert sequences to k-mers as done in training\n",
    "    species_df['kmers'] = species_df['seq'].apply(lambda x: kmers_split(x))\n",
    "    \n",
    "    # Convert labels to numerical values\n",
    "    species_df['num_label'] = species_df['label'].map(label_map)\n",
    "    \n",
    "    # Create Dataset and DataLoader\n",
    "    species_dataset = DNADataset(species_df['kmers'].tolist(), species_df['num_label'].tolist(), tokenizer)\n",
    "    species_loader = DataLoader(species_dataset, batch_size=16)\n",
    "    \n",
    "    # Evaluate model on this species\n",
    "    model.eval()\n",
    "    species_preds, species_labels = [], []\n",
    "    \n",
    "    with torch.no_grad():\n",
    "        for batch in tqdm(species_loader, desc=f'Evaluating {species}'):\n",
    "            input_ids = batch['input_ids'].to(device)\n",
    "            attention_mask = batch['attention_mask'].to(device)\n",
    "            labels = batch['labels'].to(device)\n",
    "            \n",
    "            outputs = model(input_ids, attention_mask=attention_mask)\n",
    "            logits = outputs.logits\n",
    "            preds = torch.argmax(logits, dim=1)\n",
    "            \n",
    "            species_preds.extend(preds.cpu().numpy())\n",
    "            species_labels.extend(labels.cpu().numpy())\n",
    "    \n",
    "    # Calculate metrics\n",
    "    accuracy = accuracy_score(species_labels, species_preds)\n",
    "    report = classification_report(species_labels, species_preds, target_names=['Negative', 'Positive'], output_dict=True)\n",
    "    cm = confusion_matrix(species_labels, species_preds)\n",
    "    \n",
    "    # Store results for later visualization\n",
    "    results[species] = {\n",
    "        'accuracy': accuracy,\n",
    "        'report': report,\n",
    "        'confusion_matrix': cm\n",
    "    }\n",
    "    \n",
    "    # Print results for this species\n",
    "    print(f\"\\n{species} Results:\")\n",
    "    print(f\"Accuracy: {accuracy:.4f}\")\n",
    "    print(\"\\nClassification Report:\")\n",
    "    print(classification_report(species_labels, species_preds, target_names=['Negative', 'Positive']))\n",
    "    print(\"\\nConfusion Matrix:\")\n",
    "    print(cm)\n",
    "\n",
    "# Visualize comparative results across species\n",
    "plt.figure(figsize=(12, 6))\n",
    "\n",
    "# Extract metrics for comparison\n",
    "species_names = list(results.keys())\n",
    "accuracies = [results[sp]['accuracy'] for sp in species_names]\n",
    "precisions = [results[sp]['report']['Positive']['precision'] for sp in species_names]\n",
    "recalls = [results[sp]['report']['Positive']['recall'] for sp in species_names]\n",
    "f1_scores = [results[sp]['report']['Positive']['f1-score'] for sp in species_names]\n",
    "\n",
    "# Plot metrics\n",
    "x = np.arange(len(species_names))\n",
    "width = 0.2\n",
    "\n",
    "plt.bar(x - width*1.5, accuracies, width, label='Accuracy')\n",
    "plt.bar(x - width/2, precisions, width, label='Precision')\n",
    "plt.bar(x + width/2, recalls, width, label='Recall')\n",
    "plt.bar(x + width*1.5, f1_scores, width, label='F1-Score')\n",
    "\n",
    "plt.xlabel('Species')\n",
    "plt.ylabel('Score')\n",
    "plt.title('Model Performance Across Different Species')\n",
    "plt.xticks(x, species_names)\n",
    "plt.legend()\n",
    "plt.ylim(0, 1.0)  # Set y-axis from 0 to 1\n",
    "plt.grid(axis='y', linestyle='--', alpha=0.7)\n",
    "plt.tight_layout()\n",
    "plt.show()"
   ]
  }
 ],
 "metadata": {
  "kaggle": {
   "accelerator": "nvidiaTeslaT4",
   "dataSources": [
    {
     "datasetId": 8237262,
     "sourceId": 13010910,
     "sourceType": "datasetVersion"
    }
   ],
   "dockerImageVersionId": 31090,
   "isGpuEnabled": true,
   "isInternetEnabled": true,
   "language": "python",
   "sourceType": "notebook"
  },
  "kernelspec": {
   "display_name": ".venv (3.13.6)",
   "language": "python",
   "name": "python3"
  },
  "language_info": {
   "name": "python",
   "version": "3.13.6"
  }
 },
 "nbformat": 4,
 "nbformat_minor": 4
}
